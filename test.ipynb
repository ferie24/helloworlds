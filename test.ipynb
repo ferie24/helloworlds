{
 "cells": [
  {
   "cell_type": "code",
   "execution_count": 3,
   "outputs": [
    {
     "name": "stdout",
     "output_type": "stream",
     "text": [
      "Requirement already satisfied: requests in ./venv/lib/python3.8/site-packages (2.28.1)\n",
      "Requirement already satisfied: idna<4,>=2.5 in ./venv/lib/python3.8/site-packages (from requests) (3.3)\n",
      "Requirement already satisfied: certifi>=2017.4.17 in ./venv/lib/python3.8/site-packages (from requests) (2022.6.15.1)\n",
      "Requirement already satisfied: charset-normalizer<3,>=2 in ./venv/lib/python3.8/site-packages (from requests) (2.1.1)\n",
      "Requirement already satisfied: urllib3<1.27,>=1.21.1 in ./venv/lib/python3.8/site-packages (from requests) (1.26.12)\n",
      "Requirement already satisfied: pyArango in ./venv/lib/python3.8/site-packages (2.0.1)\n",
      "Requirement already satisfied: future in ./venv/lib/python3.8/site-packages (from pyArango) (0.18.2)\n",
      "Requirement already satisfied: datetime in ./venv/lib/python3.8/site-packages (from pyArango) (4.6)\n",
      "Requirement already satisfied: requests>=2.7.0 in ./venv/lib/python3.8/site-packages (from pyArango) (2.28.1)\n",
      "Requirement already satisfied: certifi>=2017.4.17 in ./venv/lib/python3.8/site-packages (from requests>=2.7.0->pyArango) (2022.6.15.1)\n",
      "Requirement already satisfied: idna<4,>=2.5 in ./venv/lib/python3.8/site-packages (from requests>=2.7.0->pyArango) (3.3)\n",
      "Requirement already satisfied: charset-normalizer<3,>=2 in ./venv/lib/python3.8/site-packages (from requests>=2.7.0->pyArango) (2.1.1)\n",
      "Requirement already satisfied: urllib3<1.27,>=1.21.1 in ./venv/lib/python3.8/site-packages (from requests>=2.7.0->pyArango) (1.26.12)\n",
      "Requirement already satisfied: pytz in ./venv/lib/python3.8/site-packages (from datetime->pyArango) (2022.2.1)\n",
      "Requirement already satisfied: zope.interface in ./venv/lib/python3.8/site-packages (from datetime->pyArango) (5.4.0)\n",
      "Requirement already satisfied: setuptools in ./venv/lib/python3.8/site-packages (from zope.interface->datetime->pyArango) (60.2.0)\n",
      "Looking in indexes: https://test.pypi.org/simple/\n",
      "Requirement already satisfied: arangomlFeatureStore==0.0.7.8 in ./venv/lib/python3.8/site-packages (0.0.7.8)\n",
      "Requirement already satisfied: pyArango in ./venv/lib/python3.8/site-packages (2.0.1)\n",
      "Requirement already satisfied: python-arango in ./venv/lib/python3.8/site-packages (7.4.1)\n",
      "Requirement already satisfied: PyYAML==5.2 in ./venv/lib/python3.8/site-packages (5.2)\n",
      "Requirement already satisfied: numpy in ./venv/lib/python3.8/site-packages (1.23.3)\n",
      "Requirement already satisfied: scikit-surprise in ./venv/lib/python3.8/site-packages (1.1.2)\n",
      "Requirement already satisfied: future in ./venv/lib/python3.8/site-packages (from pyArango) (0.18.2)\n",
      "Requirement already satisfied: datetime in ./venv/lib/python3.8/site-packages (from pyArango) (4.6)\n",
      "Requirement already satisfied: requests>=2.7.0 in ./venv/lib/python3.8/site-packages (from pyArango) (2.28.1)\n",
      "Requirement already satisfied: PyJWT in ./venv/lib/python3.8/site-packages (from python-arango) (2.4.0)\n",
      "Requirement already satisfied: requests-toolbelt in ./venv/lib/python3.8/site-packages (from python-arango) (0.9.1)\n",
      "Requirement already satisfied: setuptools>=42 in ./venv/lib/python3.8/site-packages (from python-arango) (60.2.0)\n",
      "Requirement already satisfied: urllib3>=1.26.0 in ./venv/lib/python3.8/site-packages (from python-arango) (1.26.12)\n",
      "Requirement already satisfied: joblib>=1.0.0 in ./venv/lib/python3.8/site-packages (from scikit-surprise) (1.1.0)\n",
      "Requirement already satisfied: scipy>=1.3.2 in ./venv/lib/python3.8/site-packages (from scikit-surprise) (1.9.1)\n",
      "Requirement already satisfied: idna<4,>=2.5 in ./venv/lib/python3.8/site-packages (from requests>=2.7.0->pyArango) (3.3)\n",
      "Requirement already satisfied: charset-normalizer<3,>=2 in ./venv/lib/python3.8/site-packages (from requests>=2.7.0->pyArango) (2.1.1)\n",
      "Requirement already satisfied: certifi>=2017.4.17 in ./venv/lib/python3.8/site-packages (from requests>=2.7.0->pyArango) (2022.6.15.1)\n",
      "Requirement already satisfied: zope.interface in ./venv/lib/python3.8/site-packages (from datetime->pyArango) (5.4.0)\n",
      "Requirement already satisfied: pytz in ./venv/lib/python3.8/site-packages (from datetime->pyArango) (2022.2.1)\n"
     ]
    },
    {
     "name": "stderr",
     "output_type": "stream",
     "text": [
      "fatal: destination path 'arangomlFeatureStore' already exists and is not an empty directory.\n",
      "rsync: link_stat \"/Users/felixriemen/PycharmProjects/Jupyternotebooktest/interactive_tutorials/notebooks/data\" failed: No such file or directory (2)\n",
      "rsync error: some files could not be transferred (code 23) at /AppleInternal/Library/BuildRoots/20d6c351-ee94-11ec-bcaf-7247572f23b4/Library/Caches/com.apple.xbs/Sources/rsync/rsync/main.c(996) [sender=2.6.9]\n",
      "Input Notebook:  test.ipynb\n",
      "Output Notebook: output.ipynb\n",
      "Executing:   0%|          | 0/3 [00:00<?, ?cell/s]"
     ]
    },
    {
     "name": "stdout",
     "output_type": "stream",
     "text": [
      "building file list ... done\n",
      "\n",
      "sent 29 bytes  received 20 bytes  98.00 bytes/sec\n",
      "total size is 0  speedup is 0.00\n"
     ]
    },
    {
     "name": "stderr",
     "output_type": "stream",
     "text": [
      "Executing notebook with kernel: python3\n",
      "Executing:  33%|███▎      | 1/3 [00:00<00:01,  1.10cell/s]"
     ]
    },
    {
     "name": "stdout",
     "output_type": "stream",
     "text": [
      "Requirement already satisfied: requests in ./venv/lib/python3.8/site-packages (2.28.1)\n",
      "Requirement already satisfied: charset-normalizer<3,>=2 in ./venv/lib/python3.8/site-packages (from requests) (2.1.1)\n",
      "Requirement already satisfied: certifi>=2017.4.17 in ./venv/lib/python3.8/site-packages (from requests) (2022.6.15.1)\n",
      "Requirement already satisfied: idna<4,>=2.5 in ./venv/lib/python3.8/site-packages (from requests) (3.3)\n",
      "Requirement already satisfied: urllib3<1.27,>=1.21.1 in ./venv/lib/python3.8/site-packages (from requests) (1.26.12)\n",
      "Requirement already satisfied: pyArango in ./venv/lib/python3.8/site-packages (2.0.1)\n",
      "Requirement already satisfied: requests>=2.7.0 in ./venv/lib/python3.8/site-packages (from pyArango) (2.28.1)\n",
      "Requirement already satisfied: future in ./venv/lib/python3.8/site-packages (from pyArango) (0.18.2)\n",
      "Requirement already satisfied: datetime in ./venv/lib/python3.8/site-packages (from pyArango) (4.6)\n",
      "Requirement already satisfied: urllib3<1.27,>=1.21.1 in ./venv/lib/python3.8/site-packages (from requests>=2.7.0->pyArango) (1.26.12)\n",
      "Requirement already satisfied: certifi>=2017.4.17 in ./venv/lib/python3.8/site-packages (from requests>=2.7.0->pyArango) (2022.6.15.1)\n",
      "Requirement already satisfied: idna<4,>=2.5 in ./venv/lib/python3.8/site-packages (from requests>=2.7.0->pyArango) (3.3)\n",
      "Requirement already satisfied: charset-normalizer<3,>=2 in ./venv/lib/python3.8/site-packages (from requests>=2.7.0->pyArango) (2.1.1)\n",
      "Requirement already satisfied: pytz in ./venv/lib/python3.8/site-packages (from datetime->pyArango) (2022.2.1)\n",
      "Requirement already satisfied: zope.interface in ./venv/lib/python3.8/site-packages (from datetime->pyArango) (5.4.0)\n",
      "Requirement already satisfied: setuptools in ./venv/lib/python3.8/site-packages (from zope.interface->datetime->pyArango) (60.2.0)\n",
      "Looking in indexes: https://test.pypi.org/simple/\n",
      "Requirement already satisfied: arangomlFeatureStore==0.0.7.8 in ./venv/lib/python3.8/site-packages (0.0.7.8)\n",
      "Requirement already satisfied: pyArango in ./venv/lib/python3.8/site-packages (2.0.1)\n",
      "Requirement already satisfied: python-arango in ./venv/lib/python3.8/site-packages (7.4.1)\n",
      "Requirement already satisfied: PyYAML==5.2 in ./venv/lib/python3.8/site-packages (5.2)\n",
      "Requirement already satisfied: numpy in ./venv/lib/python3.8/site-packages (1.23.3)\n",
      "Requirement already satisfied: scikit-surprise in ./venv/lib/python3.8/site-packages (1.1.2)\n",
      "Requirement already satisfied: datetime in ./venv/lib/python3.8/site-packages (from pyArango) (4.6)\n",
      "Requirement already satisfied: requests>=2.7.0 in ./venv/lib/python3.8/site-packages (from pyArango) (2.28.1)\n",
      "Requirement already satisfied: future in ./venv/lib/python3.8/site-packages (from pyArango) (0.18.2)\n",
      "Requirement already satisfied: PyJWT in ./venv/lib/python3.8/site-packages (from python-arango) (2.4.0)\n",
      "Requirement already satisfied: urllib3>=1.26.0 in ./venv/lib/python3.8/site-packages (from python-arango) (1.26.12)\n",
      "Requirement already satisfied: requests-toolbelt in ./venv/lib/python3.8/site-packages (from python-arango) (0.9.1)\n",
      "Requirement already satisfied: setuptools>=42 in ./venv/lib/python3.8/site-packages (from python-arango) (60.2.0)\n",
      "Requirement already satisfied: joblib>=1.0.0 in ./venv/lib/python3.8/site-packages (from scikit-surprise) (1.1.0)\n",
      "Requirement already satisfied: scipy>=1.3.2 in ./venv/lib/python3.8/site-packages (from scikit-surprise) (1.9.1)\n",
      "Requirement already satisfied: idna<4,>=2.5 in ./venv/lib/python3.8/site-packages (from requests>=2.7.0->pyArango) (3.3)\n",
      "Requirement already satisfied: charset-normalizer<3,>=2 in ./venv/lib/python3.8/site-packages (from requests>=2.7.0->pyArango) (2.1.1)\n",
      "Requirement already satisfied: certifi>=2017.4.17 in ./venv/lib/python3.8/site-packages (from requests>=2.7.0->pyArango) (2022.6.15.1)\n",
      "Requirement already satisfied: pytz in ./venv/lib/python3.8/site-packages (from datetime->pyArango) (2022.2.1)\n",
      "Requirement already satisfied: zope.interface in ./venv/lib/python3.8/site-packages (from datetime->pyArango) (5.4.0)\n"
     ]
    },
    {
     "name": "stderr",
     "output_type": "stream",
     "text": [
      "fatal: destination path 'arangomlFeatureStore' already exists and is not an empty directory.\n",
      "rsync: link_stat \"/Users/felixriemen/PycharmProjects/Jupyternotebooktest/interactive_tutorials/notebooks/data\" failed: No such file or directory (2)\n",
      "rsync error: some files could not be transferred (code 23) at /AppleInternal/Library/BuildRoots/20d6c351-ee94-11ec-bcaf-7247572f23b4/Library/Caches/com.apple.xbs/Sources/rsync/rsync/main.c(996) [sender=2.6.9]\n",
      "Input Notebook:  test.ipynb\n",
      "Output Notebook: output.ipynb\n",
      "Executing:   0%|          | 0/3 [00:00<?, ?cell/s]"
     ]
    },
    {
     "name": "stdout",
     "output_type": "stream",
     "text": [
      "building file list ... done\n",
      "\n",
      "sent 29 bytes  received 20 bytes  98.00 bytes/sec\n",
      "total size is 0  speedup is 0.00\n"
     ]
    },
    {
     "name": "stderr",
     "output_type": "stream",
     "text": [
      "Executing notebook with kernel: python3\n",
      "Executing:  33%|███▎      | 1/3 [00:00<00:01,  1.10cell/s]"
     ]
    },
    {
     "name": "stdout",
     "output_type": "stream",
     "text": [
      "Requirement already satisfied: requests in ./venv/lib/python3.8/site-packages (2.28.1)\n",
      "Requirement already satisfied: charset-normalizer<3,>=2 in ./venv/lib/python3.8/site-packages (from requests) (2.1.1)\n",
      "Requirement already satisfied: urllib3<1.27,>=1.21.1 in ./venv/lib/python3.8/site-packages (from requests) (1.26.12)\n",
      "Requirement already satisfied: certifi>=2017.4.17 in ./venv/lib/python3.8/site-packages (from requests) (2022.6.15.1)\n",
      "Requirement already satisfied: idna<4,>=2.5 in ./venv/lib/python3.8/site-packages (from requests) (3.3)\n",
      "Requirement already satisfied: pyArango in ./venv/lib/python3.8/site-packages (2.0.1)\n",
      "Requirement already satisfied: datetime in ./venv/lib/python3.8/site-packages (from pyArango) (4.6)\n",
      "Requirement already satisfied: requests>=2.7.0 in ./venv/lib/python3.8/site-packages (from pyArango) (2.28.1)\n",
      "Requirement already satisfied: future in ./venv/lib/python3.8/site-packages (from pyArango) (0.18.2)\n",
      "Requirement already satisfied: charset-normalizer<3,>=2 in ./venv/lib/python3.8/site-packages (from requests>=2.7.0->pyArango) (2.1.1)\n",
      "Requirement already satisfied: certifi>=2017.4.17 in ./venv/lib/python3.8/site-packages (from requests>=2.7.0->pyArango) (2022.6.15.1)\n",
      "Requirement already satisfied: idna<4,>=2.5 in ./venv/lib/python3.8/site-packages (from requests>=2.7.0->pyArango) (3.3)\n",
      "Requirement already satisfied: urllib3<1.27,>=1.21.1 in ./venv/lib/python3.8/site-packages (from requests>=2.7.0->pyArango) (1.26.12)\n",
      "Requirement already satisfied: pytz in ./venv/lib/python3.8/site-packages (from datetime->pyArango) (2022.2.1)\n",
      "Requirement already satisfied: zope.interface in ./venv/lib/python3.8/site-packages (from datetime->pyArango) (5.4.0)\n",
      "Requirement already satisfied: setuptools in ./venv/lib/python3.8/site-packages (from zope.interface->datetime->pyArango) (60.2.0)\n",
      "Looking in indexes: https://test.pypi.org/simple/\n",
      "Requirement already satisfied: arangomlFeatureStore==0.0.7.8 in ./venv/lib/python3.8/site-packages (0.0.7.8)\n",
      "Requirement already satisfied: pyArango in ./venv/lib/python3.8/site-packages (2.0.1)\n",
      "Requirement already satisfied: python-arango in ./venv/lib/python3.8/site-packages (7.4.1)\n",
      "Requirement already satisfied: PyYAML==5.2 in ./venv/lib/python3.8/site-packages (5.2)\n",
      "Requirement already satisfied: numpy in ./venv/lib/python3.8/site-packages (1.23.3)\n",
      "Requirement already satisfied: scikit-surprise in ./venv/lib/python3.8/site-packages (1.1.2)\n",
      "Requirement already satisfied: future in ./venv/lib/python3.8/site-packages (from pyArango) (0.18.2)\n",
      "Requirement already satisfied: datetime in ./venv/lib/python3.8/site-packages (from pyArango) (4.6)\n",
      "Requirement already satisfied: requests>=2.7.0 in ./venv/lib/python3.8/site-packages (from pyArango) (2.28.1)\n",
      "Requirement already satisfied: requests-toolbelt in ./venv/lib/python3.8/site-packages (from python-arango) (0.9.1)\n",
      "Requirement already satisfied: setuptools>=42 in ./venv/lib/python3.8/site-packages (from python-arango) (60.2.0)\n",
      "Requirement already satisfied: urllib3>=1.26.0 in ./venv/lib/python3.8/site-packages (from python-arango) (1.26.12)\n",
      "Requirement already satisfied: PyJWT in ./venv/lib/python3.8/site-packages (from python-arango) (2.4.0)\n",
      "Requirement already satisfied: joblib>=1.0.0 in ./venv/lib/python3.8/site-packages (from scikit-surprise) (1.1.0)\n",
      "Requirement already satisfied: scipy>=1.3.2 in ./venv/lib/python3.8/site-packages (from scikit-surprise) (1.9.1)\n",
      "Requirement already satisfied: certifi>=2017.4.17 in ./venv/lib/python3.8/site-packages (from requests>=2.7.0->pyArango) (2022.6.15.1)\n",
      "Requirement already satisfied: idna<4,>=2.5 in ./venv/lib/python3.8/site-packages (from requests>=2.7.0->pyArango) (3.3)\n",
      "Requirement already satisfied: charset-normalizer<3,>=2 in ./venv/lib/python3.8/site-packages (from requests>=2.7.0->pyArango) (2.1.1)\n",
      "Requirement already satisfied: pytz in ./venv/lib/python3.8/site-packages (from datetime->pyArango) (2022.2.1)\n",
      "Requirement already satisfied: zope.interface in ./venv/lib/python3.8/site-packages (from datetime->pyArango) (5.4.0)\n"
     ]
    },
    {
     "name": "stderr",
     "output_type": "stream",
     "text": [
      "fatal: destination path 'arangomlFeatureStore' already exists and is not an empty directory.\n",
      "rsync: link_stat \"/Users/felixriemen/PycharmProjects/Jupyternotebooktest/interactive_tutorials/notebooks/data\" failed: No such file or directory (2)\n",
      "rsync error: some files could not be transferred (code 23) at /AppleInternal/Library/BuildRoots/20d6c351-ee94-11ec-bcaf-7247572f23b4/Library/Caches/com.apple.xbs/Sources/rsync/rsync/main.c(996) [sender=2.6.9]\n",
      "Input Notebook:  test.ipynb\n",
      "Output Notebook: output.ipynb\n",
      "Executing:   0%|          | 0/3 [00:00<?, ?cell/s]"
     ]
    },
    {
     "name": "stdout",
     "output_type": "stream",
     "text": [
      "building file list ... done\n",
      "\n",
      "sent 29 bytes  received 20 bytes  98.00 bytes/sec\n",
      "total size is 0  speedup is 0.00\n"
     ]
    },
    {
     "name": "stderr",
     "output_type": "stream",
     "text": [
      "Executing notebook with kernel: python3\n",
      "Executing:  33%|███▎      | 1/3 [00:00<00:01,  1.11cell/s]"
     ]
    },
    {
     "name": "stdout",
     "output_type": "stream",
     "text": [
      "Requirement already satisfied: requests in ./venv/lib/python3.8/site-packages (2.28.1)\n",
      "Requirement already satisfied: certifi>=2017.4.17 in ./venv/lib/python3.8/site-packages (from requests) (2022.6.15.1)\n",
      "Requirement already satisfied: idna<4,>=2.5 in ./venv/lib/python3.8/site-packages (from requests) (3.3)\n",
      "Requirement already satisfied: charset-normalizer<3,>=2 in ./venv/lib/python3.8/site-packages (from requests) (2.1.1)\n",
      "Requirement already satisfied: urllib3<1.27,>=1.21.1 in ./venv/lib/python3.8/site-packages (from requests) (1.26.12)\n",
      "Requirement already satisfied: pyArango in ./venv/lib/python3.8/site-packages (2.0.1)\n",
      "Requirement already satisfied: datetime in ./venv/lib/python3.8/site-packages (from pyArango) (4.6)\n",
      "Requirement already satisfied: requests>=2.7.0 in ./venv/lib/python3.8/site-packages (from pyArango) (2.28.1)\n",
      "Requirement already satisfied: future in ./venv/lib/python3.8/site-packages (from pyArango) (0.18.2)\n",
      "Requirement already satisfied: charset-normalizer<3,>=2 in ./venv/lib/python3.8/site-packages (from requests>=2.7.0->pyArango) (2.1.1)\n",
      "Requirement already satisfied: idna<4,>=2.5 in ./venv/lib/python3.8/site-packages (from requests>=2.7.0->pyArango) (3.3)\n",
      "Requirement already satisfied: certifi>=2017.4.17 in ./venv/lib/python3.8/site-packages (from requests>=2.7.0->pyArango) (2022.6.15.1)\n",
      "Requirement already satisfied: urllib3<1.27,>=1.21.1 in ./venv/lib/python3.8/site-packages (from requests>=2.7.0->pyArango) (1.26.12)\n",
      "Requirement already satisfied: zope.interface in ./venv/lib/python3.8/site-packages (from datetime->pyArango) (5.4.0)\n",
      "Requirement already satisfied: pytz in ./venv/lib/python3.8/site-packages (from datetime->pyArango) (2022.2.1)\n",
      "Requirement already satisfied: setuptools in ./venv/lib/python3.8/site-packages (from zope.interface->datetime->pyArango) (60.2.0)\n",
      "Looking in indexes: https://test.pypi.org/simple/\n",
      "Requirement already satisfied: arangomlFeatureStore==0.0.7.8 in ./venv/lib/python3.8/site-packages (0.0.7.8)\n",
      "Requirement already satisfied: pyArango in ./venv/lib/python3.8/site-packages (2.0.1)\n",
      "Requirement already satisfied: python-arango in ./venv/lib/python3.8/site-packages (7.4.1)\n",
      "Requirement already satisfied: PyYAML==5.2 in ./venv/lib/python3.8/site-packages (5.2)\n",
      "Requirement already satisfied: numpy in ./venv/lib/python3.8/site-packages (1.23.3)\n",
      "Requirement already satisfied: scikit-surprise in ./venv/lib/python3.8/site-packages (1.1.2)\n",
      "Requirement already satisfied: future in ./venv/lib/python3.8/site-packages (from pyArango) (0.18.2)\n",
      "Requirement already satisfied: datetime in ./venv/lib/python3.8/site-packages (from pyArango) (4.6)\n",
      "Requirement already satisfied: requests>=2.7.0 in ./venv/lib/python3.8/site-packages (from pyArango) (2.28.1)\n",
      "Requirement already satisfied: setuptools>=42 in ./venv/lib/python3.8/site-packages (from python-arango) (60.2.0)\n",
      "Requirement already satisfied: requests-toolbelt in ./venv/lib/python3.8/site-packages (from python-arango) (0.9.1)\n",
      "Requirement already satisfied: PyJWT in ./venv/lib/python3.8/site-packages (from python-arango) (2.4.0)\n",
      "Requirement already satisfied: urllib3>=1.26.0 in ./venv/lib/python3.8/site-packages (from python-arango) (1.26.12)\n",
      "Requirement already satisfied: joblib>=1.0.0 in ./venv/lib/python3.8/site-packages (from scikit-surprise) (1.1.0)\n",
      "Requirement already satisfied: scipy>=1.3.2 in ./venv/lib/python3.8/site-packages (from scikit-surprise) (1.9.1)\n",
      "Requirement already satisfied: charset-normalizer<3,>=2 in ./venv/lib/python3.8/site-packages (from requests>=2.7.0->pyArango) (2.1.1)\n",
      "Requirement already satisfied: certifi>=2017.4.17 in ./venv/lib/python3.8/site-packages (from requests>=2.7.0->pyArango) (2022.6.15.1)\n",
      "Requirement already satisfied: idna<4,>=2.5 in ./venv/lib/python3.8/site-packages (from requests>=2.7.0->pyArango) (3.3)\n",
      "Requirement already satisfied: pytz in ./venv/lib/python3.8/site-packages (from datetime->pyArango) (2022.2.1)\n",
      "Requirement already satisfied: zope.interface in ./venv/lib/python3.8/site-packages (from datetime->pyArango) (5.4.0)\n"
     ]
    },
    {
     "name": "stderr",
     "output_type": "stream",
     "text": [
      "fatal: destination path 'arangomlFeatureStore' already exists and is not an empty directory.\n",
      "rsync: link_stat \"/Users/felixriemen/PycharmProjects/Jupyternotebooktest/interactive_tutorials/notebooks/data\" failed: No such file or directory (2)\n",
      "rsync error: some files could not be transferred (code 23) at /AppleInternal/Library/BuildRoots/20d6c351-ee94-11ec-bcaf-7247572f23b4/Library/Caches/com.apple.xbs/Sources/rsync/rsync/main.c(996) [sender=2.6.9]\n",
      "Input Notebook:  test.ipynb\n",
      "Output Notebook: output.ipynb\n",
      "Executing:   0%|          | 0/3 [00:00<?, ?cell/s]"
     ]
    },
    {
     "name": "stdout",
     "output_type": "stream",
     "text": [
      "building file list ... done\n",
      "\n",
      "sent 29 bytes  received 20 bytes  98.00 bytes/sec\n",
      "total size is 0  speedup is 0.00\n"
     ]
    },
    {
     "name": "stderr",
     "output_type": "stream",
     "text": [
      "Executing notebook with kernel: python3\n",
      "Executing:  33%|███▎      | 1/3 [00:00<00:01,  1.11cell/s]"
     ]
    },
    {
     "name": "stdout",
     "output_type": "stream",
     "text": [
      "Requirement already satisfied: requests in ./venv/lib/python3.8/site-packages (2.28.1)\n",
      "Requirement already satisfied: urllib3<1.27,>=1.21.1 in ./venv/lib/python3.8/site-packages (from requests) (1.26.12)\n",
      "Requirement already satisfied: certifi>=2017.4.17 in ./venv/lib/python3.8/site-packages (from requests) (2022.6.15.1)\n",
      "Requirement already satisfied: idna<4,>=2.5 in ./venv/lib/python3.8/site-packages (from requests) (3.3)\n",
      "Requirement already satisfied: charset-normalizer<3,>=2 in ./venv/lib/python3.8/site-packages (from requests) (2.1.1)\n",
      "Requirement already satisfied: pyArango in ./venv/lib/python3.8/site-packages (2.0.1)\n",
      "Requirement already satisfied: future in ./venv/lib/python3.8/site-packages (from pyArango) (0.18.2)\n",
      "Requirement already satisfied: requests>=2.7.0 in ./venv/lib/python3.8/site-packages (from pyArango) (2.28.1)\n",
      "Requirement already satisfied: datetime in ./venv/lib/python3.8/site-packages (from pyArango) (4.6)\n",
      "Requirement already satisfied: urllib3<1.27,>=1.21.1 in ./venv/lib/python3.8/site-packages (from requests>=2.7.0->pyArango) (1.26.12)\n",
      "Requirement already satisfied: certifi>=2017.4.17 in ./venv/lib/python3.8/site-packages (from requests>=2.7.0->pyArango) (2022.6.15.1)\n",
      "Requirement already satisfied: charset-normalizer<3,>=2 in ./venv/lib/python3.8/site-packages (from requests>=2.7.0->pyArango) (2.1.1)\n",
      "Requirement already satisfied: idna<4,>=2.5 in ./venv/lib/python3.8/site-packages (from requests>=2.7.0->pyArango) (3.3)\n",
      "Requirement already satisfied: pytz in ./venv/lib/python3.8/site-packages (from datetime->pyArango) (2022.2.1)\n",
      "Requirement already satisfied: zope.interface in ./venv/lib/python3.8/site-packages (from datetime->pyArango) (5.4.0)\n",
      "Requirement already satisfied: setuptools in ./venv/lib/python3.8/site-packages (from zope.interface->datetime->pyArango) (60.2.0)\n",
      "Looking in indexes: https://test.pypi.org/simple/\n",
      "Requirement already satisfied: arangomlFeatureStore==0.0.7.8 in ./venv/lib/python3.8/site-packages (0.0.7.8)\n",
      "Requirement already satisfied: pyArango in ./venv/lib/python3.8/site-packages (2.0.1)\n",
      "Requirement already satisfied: python-arango in ./venv/lib/python3.8/site-packages (7.4.1)\n",
      "Requirement already satisfied: PyYAML==5.2 in ./venv/lib/python3.8/site-packages (5.2)\n",
      "Requirement already satisfied: numpy in ./venv/lib/python3.8/site-packages (1.23.3)\n",
      "Requirement already satisfied: scikit-surprise in ./venv/lib/python3.8/site-packages (1.1.2)\n",
      "Requirement already satisfied: future in ./venv/lib/python3.8/site-packages (from pyArango) (0.18.2)\n",
      "Requirement already satisfied: requests>=2.7.0 in ./venv/lib/python3.8/site-packages (from pyArango) (2.28.1)\n",
      "Requirement already satisfied: datetime in ./venv/lib/python3.8/site-packages (from pyArango) (4.6)\n",
      "Requirement already satisfied: setuptools>=42 in ./venv/lib/python3.8/site-packages (from python-arango) (60.2.0)\n",
      "Requirement already satisfied: PyJWT in ./venv/lib/python3.8/site-packages (from python-arango) (2.4.0)\n",
      "Requirement already satisfied: requests-toolbelt in ./venv/lib/python3.8/site-packages (from python-arango) (0.9.1)\n",
      "Requirement already satisfied: urllib3>=1.26.0 in ./venv/lib/python3.8/site-packages (from python-arango) (1.26.12)\n",
      "Requirement already satisfied: joblib>=1.0.0 in ./venv/lib/python3.8/site-packages (from scikit-surprise) (1.1.0)\n",
      "Requirement already satisfied: scipy>=1.3.2 in ./venv/lib/python3.8/site-packages (from scikit-surprise) (1.9.1)\n",
      "Requirement already satisfied: certifi>=2017.4.17 in ./venv/lib/python3.8/site-packages (from requests>=2.7.0->pyArango) (2022.6.15.1)\n",
      "Requirement already satisfied: idna<4,>=2.5 in ./venv/lib/python3.8/site-packages (from requests>=2.7.0->pyArango) (3.3)\n",
      "Requirement already satisfied: charset-normalizer<3,>=2 in ./venv/lib/python3.8/site-packages (from requests>=2.7.0->pyArango) (2.1.1)\n",
      "Requirement already satisfied: zope.interface in ./venv/lib/python3.8/site-packages (from datetime->pyArango) (5.4.0)\n",
      "Requirement already satisfied: pytz in ./venv/lib/python3.8/site-packages (from datetime->pyArango) (2022.2.1)\n"
     ]
    },
    {
     "name": "stderr",
     "output_type": "stream",
     "text": [
      "fatal: destination path 'arangomlFeatureStore' already exists and is not an empty directory.\n",
      "rsync: link_stat \"/Users/felixriemen/PycharmProjects/Jupyternotebooktest/interactive_tutorials/notebooks/data\" failed: No such file or directory (2)\n",
      "rsync error: some files could not be transferred (code 23) at /AppleInternal/Library/BuildRoots/20d6c351-ee94-11ec-bcaf-7247572f23b4/Library/Caches/com.apple.xbs/Sources/rsync/rsync/main.c(996) [sender=2.6.9]\n",
      "Input Notebook:  test.ipynb\n",
      "Output Notebook: output.ipynb\n",
      "Executing:   0%|          | 0/3 [00:00<?, ?cell/s]"
     ]
    },
    {
     "name": "stdout",
     "output_type": "stream",
     "text": [
      "building file list ... done\n",
      "\n",
      "sent 29 bytes  received 20 bytes  98.00 bytes/sec\n",
      "total size is 0  speedup is 0.00\n"
     ]
    },
    {
     "name": "stderr",
     "output_type": "stream",
     "text": [
      "Executing notebook with kernel: python3\n",
      "Executing:  33%|███▎      | 1/3 [00:00<00:01,  1.11cell/s]"
     ]
    },
    {
     "name": "stdout",
     "output_type": "stream",
     "text": [
      "Requirement already satisfied: requests in ./venv/lib/python3.8/site-packages (2.28.1)\n",
      "Requirement already satisfied: certifi>=2017.4.17 in ./venv/lib/python3.8/site-packages (from requests) (2022.6.15.1)\n",
      "Requirement already satisfied: urllib3<1.27,>=1.21.1 in ./venv/lib/python3.8/site-packages (from requests) (1.26.12)\n",
      "Requirement already satisfied: idna<4,>=2.5 in ./venv/lib/python3.8/site-packages (from requests) (3.3)\n",
      "Requirement already satisfied: charset-normalizer<3,>=2 in ./venv/lib/python3.8/site-packages (from requests) (2.1.1)\n",
      "Requirement already satisfied: pyArango in ./venv/lib/python3.8/site-packages (2.0.1)\n",
      "Requirement already satisfied: requests>=2.7.0 in ./venv/lib/python3.8/site-packages (from pyArango) (2.28.1)\n",
      "Requirement already satisfied: datetime in ./venv/lib/python3.8/site-packages (from pyArango) (4.6)\n",
      "Requirement already satisfied: future in ./venv/lib/python3.8/site-packages (from pyArango) (0.18.2)\n",
      "Requirement already satisfied: charset-normalizer<3,>=2 in ./venv/lib/python3.8/site-packages (from requests>=2.7.0->pyArango) (2.1.1)\n",
      "Requirement already satisfied: idna<4,>=2.5 in ./venv/lib/python3.8/site-packages (from requests>=2.7.0->pyArango) (3.3)\n",
      "Requirement already satisfied: certifi>=2017.4.17 in ./venv/lib/python3.8/site-packages (from requests>=2.7.0->pyArango) (2022.6.15.1)\n",
      "Requirement already satisfied: urllib3<1.27,>=1.21.1 in ./venv/lib/python3.8/site-packages (from requests>=2.7.0->pyArango) (1.26.12)\n",
      "Requirement already satisfied: pytz in ./venv/lib/python3.8/site-packages (from datetime->pyArango) (2022.2.1)\n",
      "Requirement already satisfied: zope.interface in ./venv/lib/python3.8/site-packages (from datetime->pyArango) (5.4.0)\n",
      "Requirement already satisfied: setuptools in ./venv/lib/python3.8/site-packages (from zope.interface->datetime->pyArango) (60.2.0)\n",
      "Looking in indexes: https://test.pypi.org/simple/\n",
      "Requirement already satisfied: arangomlFeatureStore==0.0.7.8 in ./venv/lib/python3.8/site-packages (0.0.7.8)\n",
      "Requirement already satisfied: pyArango in ./venv/lib/python3.8/site-packages (2.0.1)\n",
      "Requirement already satisfied: python-arango in ./venv/lib/python3.8/site-packages (7.4.1)\n",
      "Requirement already satisfied: PyYAML==5.2 in ./venv/lib/python3.8/site-packages (5.2)\n",
      "Requirement already satisfied: numpy in ./venv/lib/python3.8/site-packages (1.23.3)\n",
      "Requirement already satisfied: scikit-surprise in ./venv/lib/python3.8/site-packages (1.1.2)\n",
      "Requirement already satisfied: future in ./venv/lib/python3.8/site-packages (from pyArango) (0.18.2)\n",
      "Requirement already satisfied: datetime in ./venv/lib/python3.8/site-packages (from pyArango) (4.6)\n",
      "Requirement already satisfied: requests>=2.7.0 in ./venv/lib/python3.8/site-packages (from pyArango) (2.28.1)\n",
      "Requirement already satisfied: setuptools>=42 in ./venv/lib/python3.8/site-packages (from python-arango) (60.2.0)\n",
      "Requirement already satisfied: urllib3>=1.26.0 in ./venv/lib/python3.8/site-packages (from python-arango) (1.26.12)\n",
      "Requirement already satisfied: PyJWT in ./venv/lib/python3.8/site-packages (from python-arango) (2.4.0)\n",
      "Requirement already satisfied: requests-toolbelt in ./venv/lib/python3.8/site-packages (from python-arango) (0.9.1)\n",
      "Requirement already satisfied: joblib>=1.0.0 in ./venv/lib/python3.8/site-packages (from scikit-surprise) (1.1.0)\n",
      "Requirement already satisfied: scipy>=1.3.2 in ./venv/lib/python3.8/site-packages (from scikit-surprise) (1.9.1)\n",
      "Requirement already satisfied: charset-normalizer<3,>=2 in ./venv/lib/python3.8/site-packages (from requests>=2.7.0->pyArango) (2.1.1)\n",
      "Requirement already satisfied: certifi>=2017.4.17 in ./venv/lib/python3.8/site-packages (from requests>=2.7.0->pyArango) (2022.6.15.1)\n",
      "Requirement already satisfied: idna<4,>=2.5 in ./venv/lib/python3.8/site-packages (from requests>=2.7.0->pyArango) (3.3)\n",
      "Requirement already satisfied: pytz in ./venv/lib/python3.8/site-packages (from datetime->pyArango) (2022.2.1)\n",
      "Requirement already satisfied: zope.interface in ./venv/lib/python3.8/site-packages (from datetime->pyArango) (5.4.0)\n"
     ]
    },
    {
     "name": "stderr",
     "output_type": "stream",
     "text": [
      "fatal: destination path 'arangomlFeatureStore' already exists and is not an empty directory.\n",
      "rsync: link_stat \"/Users/felixriemen/PycharmProjects/Jupyternotebooktest/interactive_tutorials/notebooks/data\" failed: No such file or directory (2)\n",
      "rsync error: some files could not be transferred (code 23) at /AppleInternal/Library/BuildRoots/20d6c351-ee94-11ec-bcaf-7247572f23b4/Library/Caches/com.apple.xbs/Sources/rsync/rsync/main.c(996) [sender=2.6.9]\n",
      "Input Notebook:  test.ipynb\n",
      "Output Notebook: output.ipynb\n",
      "Executing:   0%|          | 0/3 [00:00<?, ?cell/s]"
     ]
    },
    {
     "name": "stdout",
     "output_type": "stream",
     "text": [
      "building file list ... done\n",
      "\n",
      "sent 29 bytes  received 20 bytes  98.00 bytes/sec\n",
      "total size is 0  speedup is 0.00\n"
     ]
    },
    {
     "name": "stderr",
     "output_type": "stream",
     "text": [
      "Executing notebook with kernel: python3\n",
      "Executing:  33%|███▎      | 1/3 [00:00<00:01,  1.11cell/s]"
     ]
    },
    {
     "name": "stdout",
     "output_type": "stream",
     "text": [
      "Requirement already satisfied: requests in ./venv/lib/python3.8/site-packages (2.28.1)\n",
      "Requirement already satisfied: certifi>=2017.4.17 in ./venv/lib/python3.8/site-packages (from requests) (2022.6.15.1)\n",
      "Requirement already satisfied: idna<4,>=2.5 in ./venv/lib/python3.8/site-packages (from requests) (3.3)\n",
      "Requirement already satisfied: charset-normalizer<3,>=2 in ./venv/lib/python3.8/site-packages (from requests) (2.1.1)\n",
      "Requirement already satisfied: urllib3<1.27,>=1.21.1 in ./venv/lib/python3.8/site-packages (from requests) (1.26.12)\n",
      "Requirement already satisfied: pyArango in ./venv/lib/python3.8/site-packages (2.0.1)\n",
      "Requirement already satisfied: future in ./venv/lib/python3.8/site-packages (from pyArango) (0.18.2)\n",
      "Requirement already satisfied: requests>=2.7.0 in ./venv/lib/python3.8/site-packages (from pyArango) (2.28.1)\n",
      "Requirement already satisfied: datetime in ./venv/lib/python3.8/site-packages (from pyArango) (4.6)\n",
      "Requirement already satisfied: certifi>=2017.4.17 in ./venv/lib/python3.8/site-packages (from requests>=2.7.0->pyArango) (2022.6.15.1)\n",
      "Requirement already satisfied: idna<4,>=2.5 in ./venv/lib/python3.8/site-packages (from requests>=2.7.0->pyArango) (3.3)\n",
      "Requirement already satisfied: urllib3<1.27,>=1.21.1 in ./venv/lib/python3.8/site-packages (from requests>=2.7.0->pyArango) (1.26.12)\n",
      "Requirement already satisfied: charset-normalizer<3,>=2 in ./venv/lib/python3.8/site-packages (from requests>=2.7.0->pyArango) (2.1.1)\n",
      "Requirement already satisfied: pytz in ./venv/lib/python3.8/site-packages (from datetime->pyArango) (2022.2.1)\n",
      "Requirement already satisfied: zope.interface in ./venv/lib/python3.8/site-packages (from datetime->pyArango) (5.4.0)\n",
      "Requirement already satisfied: setuptools in ./venv/lib/python3.8/site-packages (from zope.interface->datetime->pyArango) (60.2.0)\n",
      "Looking in indexes: https://test.pypi.org/simple/\n",
      "Requirement already satisfied: arangomlFeatureStore==0.0.7.8 in ./venv/lib/python3.8/site-packages (0.0.7.8)\n",
      "Requirement already satisfied: pyArango in ./venv/lib/python3.8/site-packages (2.0.1)\n",
      "Requirement already satisfied: python-arango in ./venv/lib/python3.8/site-packages (7.4.1)\n",
      "Requirement already satisfied: PyYAML==5.2 in ./venv/lib/python3.8/site-packages (5.2)\n",
      "Requirement already satisfied: numpy in ./venv/lib/python3.8/site-packages (1.23.3)\n",
      "Requirement already satisfied: scikit-surprise in ./venv/lib/python3.8/site-packages (1.1.2)\n",
      "Requirement already satisfied: datetime in ./venv/lib/python3.8/site-packages (from pyArango) (4.6)\n",
      "Requirement already satisfied: future in ./venv/lib/python3.8/site-packages (from pyArango) (0.18.2)\n",
      "Requirement already satisfied: requests>=2.7.0 in ./venv/lib/python3.8/site-packages (from pyArango) (2.28.1)\n",
      "Requirement already satisfied: requests-toolbelt in ./venv/lib/python3.8/site-packages (from python-arango) (0.9.1)\n",
      "Requirement already satisfied: urllib3>=1.26.0 in ./venv/lib/python3.8/site-packages (from python-arango) (1.26.12)\n",
      "Requirement already satisfied: PyJWT in ./venv/lib/python3.8/site-packages (from python-arango) (2.4.0)\n",
      "Requirement already satisfied: setuptools>=42 in ./venv/lib/python3.8/site-packages (from python-arango) (60.2.0)\n",
      "Requirement already satisfied: joblib>=1.0.0 in ./venv/lib/python3.8/site-packages (from scikit-surprise) (1.1.0)\n",
      "Requirement already satisfied: scipy>=1.3.2 in ./venv/lib/python3.8/site-packages (from scikit-surprise) (1.9.1)\n",
      "Requirement already satisfied: charset-normalizer<3,>=2 in ./venv/lib/python3.8/site-packages (from requests>=2.7.0->pyArango) (2.1.1)\n",
      "Requirement already satisfied: certifi>=2017.4.17 in ./venv/lib/python3.8/site-packages (from requests>=2.7.0->pyArango) (2022.6.15.1)\n",
      "Requirement already satisfied: idna<4,>=2.5 in ./venv/lib/python3.8/site-packages (from requests>=2.7.0->pyArango) (3.3)\n",
      "Requirement already satisfied: zope.interface in ./venv/lib/python3.8/site-packages (from datetime->pyArango) (5.4.0)\n",
      "Requirement already satisfied: pytz in ./venv/lib/python3.8/site-packages (from datetime->pyArango) (2022.2.1)\n"
     ]
    },
    {
     "name": "stderr",
     "output_type": "stream",
     "text": [
      "fatal: destination path 'arangomlFeatureStore' already exists and is not an empty directory.\n",
      "rsync: link_stat \"/Users/felixriemen/PycharmProjects/Jupyternotebooktest/interactive_tutorials/notebooks/data\" failed: No such file or directory (2)\n",
      "rsync error: some files could not be transferred (code 23) at /AppleInternal/Library/BuildRoots/20d6c351-ee94-11ec-bcaf-7247572f23b4/Library/Caches/com.apple.xbs/Sources/rsync/rsync/main.c(996) [sender=2.6.9]\n",
      "Input Notebook:  test.ipynb\n",
      "Output Notebook: output.ipynb\n",
      "Executing:   0%|          | 0/3 [00:00<?, ?cell/s]"
     ]
    },
    {
     "name": "stdout",
     "output_type": "stream",
     "text": [
      "building file list ... done\n",
      "\n",
      "sent 29 bytes  received 20 bytes  98.00 bytes/sec\n",
      "total size is 0  speedup is 0.00\n"
     ]
    },
    {
     "name": "stderr",
     "output_type": "stream",
     "text": [
      "Executing notebook with kernel: python3\n",
      "Executing:  33%|███▎      | 1/3 [00:00<00:01,  1.10cell/s]"
     ]
    },
    {
     "name": "stdout",
     "output_type": "stream",
     "text": [
      "Requirement already satisfied: requests in ./venv/lib/python3.8/site-packages (2.28.1)\n",
      "Requirement already satisfied: charset-normalizer<3,>=2 in ./venv/lib/python3.8/site-packages (from requests) (2.1.1)\n",
      "Requirement already satisfied: urllib3<1.27,>=1.21.1 in ./venv/lib/python3.8/site-packages (from requests) (1.26.12)\n",
      "Requirement already satisfied: certifi>=2017.4.17 in ./venv/lib/python3.8/site-packages (from requests) (2022.6.15.1)\n",
      "Requirement already satisfied: idna<4,>=2.5 in ./venv/lib/python3.8/site-packages (from requests) (3.3)\n",
      "Requirement already satisfied: pyArango in ./venv/lib/python3.8/site-packages (2.0.1)\n",
      "Requirement already satisfied: requests>=2.7.0 in ./venv/lib/python3.8/site-packages (from pyArango) (2.28.1)\n",
      "Requirement already satisfied: future in ./venv/lib/python3.8/site-packages (from pyArango) (0.18.2)\n",
      "Requirement already satisfied: datetime in ./venv/lib/python3.8/site-packages (from pyArango) (4.6)\n",
      "Requirement already satisfied: certifi>=2017.4.17 in ./venv/lib/python3.8/site-packages (from requests>=2.7.0->pyArango) (2022.6.15.1)\n",
      "Requirement already satisfied: idna<4,>=2.5 in ./venv/lib/python3.8/site-packages (from requests>=2.7.0->pyArango) (3.3)\n",
      "Requirement already satisfied: urllib3<1.27,>=1.21.1 in ./venv/lib/python3.8/site-packages (from requests>=2.7.0->pyArango) (1.26.12)\n",
      "Requirement already satisfied: charset-normalizer<3,>=2 in ./venv/lib/python3.8/site-packages (from requests>=2.7.0->pyArango) (2.1.1)\n",
      "Requirement already satisfied: zope.interface in ./venv/lib/python3.8/site-packages (from datetime->pyArango) (5.4.0)\n",
      "Requirement already satisfied: pytz in ./venv/lib/python3.8/site-packages (from datetime->pyArango) (2022.2.1)\n",
      "Requirement already satisfied: setuptools in ./venv/lib/python3.8/site-packages (from zope.interface->datetime->pyArango) (60.2.0)\n",
      "Looking in indexes: https://test.pypi.org/simple/\n",
      "Requirement already satisfied: arangomlFeatureStore==0.0.7.8 in ./venv/lib/python3.8/site-packages (0.0.7.8)\n",
      "Requirement already satisfied: pyArango in ./venv/lib/python3.8/site-packages (2.0.1)\n",
      "Requirement already satisfied: python-arango in ./venv/lib/python3.8/site-packages (7.4.1)\n",
      "Requirement already satisfied: PyYAML==5.2 in ./venv/lib/python3.8/site-packages (5.2)\n",
      "Requirement already satisfied: numpy in ./venv/lib/python3.8/site-packages (1.23.3)\n",
      "Requirement already satisfied: scikit-surprise in ./venv/lib/python3.8/site-packages (1.1.2)\n",
      "Requirement already satisfied: requests>=2.7.0 in ./venv/lib/python3.8/site-packages (from pyArango) (2.28.1)\n",
      "Requirement already satisfied: datetime in ./venv/lib/python3.8/site-packages (from pyArango) (4.6)\n",
      "Requirement already satisfied: future in ./venv/lib/python3.8/site-packages (from pyArango) (0.18.2)\n",
      "Requirement already satisfied: requests-toolbelt in ./venv/lib/python3.8/site-packages (from python-arango) (0.9.1)\n",
      "Requirement already satisfied: urllib3>=1.26.0 in ./venv/lib/python3.8/site-packages (from python-arango) (1.26.12)\n",
      "Requirement already satisfied: setuptools>=42 in ./venv/lib/python3.8/site-packages (from python-arango) (60.2.0)\n",
      "Requirement already satisfied: PyJWT in ./venv/lib/python3.8/site-packages (from python-arango) (2.4.0)\n",
      "Requirement already satisfied: joblib>=1.0.0 in ./venv/lib/python3.8/site-packages (from scikit-surprise) (1.1.0)\n",
      "Requirement already satisfied: scipy>=1.3.2 in ./venv/lib/python3.8/site-packages (from scikit-surprise) (1.9.1)\n",
      "Requirement already satisfied: charset-normalizer<3,>=2 in ./venv/lib/python3.8/site-packages (from requests>=2.7.0->pyArango) (2.1.1)\n",
      "Requirement already satisfied: idna<4,>=2.5 in ./venv/lib/python3.8/site-packages (from requests>=2.7.0->pyArango) (3.3)\n",
      "Requirement already satisfied: certifi>=2017.4.17 in ./venv/lib/python3.8/site-packages (from requests>=2.7.0->pyArango) (2022.6.15.1)\n",
      "Requirement already satisfied: pytz in ./venv/lib/python3.8/site-packages (from datetime->pyArango) (2022.2.1)\n",
      "Requirement already satisfied: zope.interface in ./venv/lib/python3.8/site-packages (from datetime->pyArango) (5.4.0)\n"
     ]
    },
    {
     "name": "stderr",
     "output_type": "stream",
     "text": [
      "fatal: destination path 'arangomlFeatureStore' already exists and is not an empty directory.\n",
      "rsync: link_stat \"/Users/felixriemen/PycharmProjects/Jupyternotebooktest/interactive_tutorials/notebooks/data\" failed: No such file or directory (2)\n",
      "rsync error: some files could not be transferred (code 23) at /AppleInternal/Library/BuildRoots/20d6c351-ee94-11ec-bcaf-7247572f23b4/Library/Caches/com.apple.xbs/Sources/rsync/rsync/main.c(996) [sender=2.6.9]\n",
      "Input Notebook:  test.ipynb\n",
      "Output Notebook: output.ipynb\n",
      "Executing:   0%|          | 0/3 [00:00<?, ?cell/s]"
     ]
    },
    {
     "name": "stdout",
     "output_type": "stream",
     "text": [
      "building file list ... done\n",
      "\n",
      "sent 29 bytes  received 20 bytes  98.00 bytes/sec\n",
      "total size is 0  speedup is 0.00\n"
     ]
    },
    {
     "name": "stderr",
     "output_type": "stream",
     "text": [
      "Executing notebook with kernel: python3\n",
      "Executing:  33%|███▎      | 1/3 [00:00<00:01,  1.07cell/s]"
     ]
    },
    {
     "name": "stdout",
     "output_type": "stream",
     "text": [
      "Requirement already satisfied: requests in ./venv/lib/python3.8/site-packages (2.28.1)\n",
      "Requirement already satisfied: certifi>=2017.4.17 in ./venv/lib/python3.8/site-packages (from requests) (2022.6.15.1)\n",
      "Requirement already satisfied: charset-normalizer<3,>=2 in ./venv/lib/python3.8/site-packages (from requests) (2.1.1)\n",
      "Requirement already satisfied: urllib3<1.27,>=1.21.1 in ./venv/lib/python3.8/site-packages (from requests) (1.26.12)\n",
      "Requirement already satisfied: idna<4,>=2.5 in ./venv/lib/python3.8/site-packages (from requests) (3.3)\n",
      "Requirement already satisfied: pyArango in ./venv/lib/python3.8/site-packages (2.0.1)\n",
      "Requirement already satisfied: requests>=2.7.0 in ./venv/lib/python3.8/site-packages (from pyArango) (2.28.1)\n",
      "Requirement already satisfied: datetime in ./venv/lib/python3.8/site-packages (from pyArango) (4.6)\n",
      "Requirement already satisfied: future in ./venv/lib/python3.8/site-packages (from pyArango) (0.18.2)\n",
      "Requirement already satisfied: charset-normalizer<3,>=2 in ./venv/lib/python3.8/site-packages (from requests>=2.7.0->pyArango) (2.1.1)\n",
      "Requirement already satisfied: urllib3<1.27,>=1.21.1 in ./venv/lib/python3.8/site-packages (from requests>=2.7.0->pyArango) (1.26.12)\n",
      "Requirement already satisfied: idna<4,>=2.5 in ./venv/lib/python3.8/site-packages (from requests>=2.7.0->pyArango) (3.3)\n",
      "Requirement already satisfied: certifi>=2017.4.17 in ./venv/lib/python3.8/site-packages (from requests>=2.7.0->pyArango) (2022.6.15.1)\n",
      "Requirement already satisfied: zope.interface in ./venv/lib/python3.8/site-packages (from datetime->pyArango) (5.4.0)\n",
      "Requirement already satisfied: pytz in ./venv/lib/python3.8/site-packages (from datetime->pyArango) (2022.2.1)\n",
      "Requirement already satisfied: setuptools in ./venv/lib/python3.8/site-packages (from zope.interface->datetime->pyArango) (60.2.0)\n",
      "Looking in indexes: https://test.pypi.org/simple/\n",
      "Requirement already satisfied: arangomlFeatureStore==0.0.7.8 in ./venv/lib/python3.8/site-packages (0.0.7.8)\n",
      "Requirement already satisfied: pyArango in ./venv/lib/python3.8/site-packages (2.0.1)\n",
      "Requirement already satisfied: python-arango in ./venv/lib/python3.8/site-packages (7.4.1)\n",
      "Requirement already satisfied: PyYAML==5.2 in ./venv/lib/python3.8/site-packages (5.2)\n",
      "Requirement already satisfied: numpy in ./venv/lib/python3.8/site-packages (1.23.3)\n",
      "Requirement already satisfied: scikit-surprise in ./venv/lib/python3.8/site-packages (1.1.2)\n",
      "Requirement already satisfied: requests>=2.7.0 in ./venv/lib/python3.8/site-packages (from pyArango) (2.28.1)\n",
      "Requirement already satisfied: future in ./venv/lib/python3.8/site-packages (from pyArango) (0.18.2)\n",
      "Requirement already satisfied: datetime in ./venv/lib/python3.8/site-packages (from pyArango) (4.6)\n",
      "Requirement already satisfied: PyJWT in ./venv/lib/python3.8/site-packages (from python-arango) (2.4.0)\n",
      "Requirement already satisfied: requests-toolbelt in ./venv/lib/python3.8/site-packages (from python-arango) (0.9.1)\n",
      "Requirement already satisfied: urllib3>=1.26.0 in ./venv/lib/python3.8/site-packages (from python-arango) (1.26.12)\n",
      "Requirement already satisfied: setuptools>=42 in ./venv/lib/python3.8/site-packages (from python-arango) (60.2.0)\n",
      "Requirement already satisfied: joblib>=1.0.0 in ./venv/lib/python3.8/site-packages (from scikit-surprise) (1.1.0)\n",
      "Requirement already satisfied: scipy>=1.3.2 in ./venv/lib/python3.8/site-packages (from scikit-surprise) (1.9.1)\n",
      "Requirement already satisfied: idna<4,>=2.5 in ./venv/lib/python3.8/site-packages (from requests>=2.7.0->pyArango) (3.3)\n",
      "Requirement already satisfied: certifi>=2017.4.17 in ./venv/lib/python3.8/site-packages (from requests>=2.7.0->pyArango) (2022.6.15.1)\n",
      "Requirement already satisfied: charset-normalizer<3,>=2 in ./venv/lib/python3.8/site-packages (from requests>=2.7.0->pyArango) (2.1.1)\n",
      "Requirement already satisfied: zope.interface in ./venv/lib/python3.8/site-packages (from datetime->pyArango) (5.4.0)\n",
      "Requirement already satisfied: pytz in ./venv/lib/python3.8/site-packages (from datetime->pyArango) (2022.2.1)\n"
     ]
    },
    {
     "name": "stderr",
     "output_type": "stream",
     "text": [
      "fatal: destination path 'arangomlFeatureStore' already exists and is not an empty directory.\n",
      "rsync: link_stat \"/Users/felixriemen/PycharmProjects/Jupyternotebooktest/interactive_tutorials/notebooks/data\" failed: No such file or directory (2)\n",
      "rsync error: some files could not be transferred (code 23) at /AppleInternal/Library/BuildRoots/20d6c351-ee94-11ec-bcaf-7247572f23b4/Library/Caches/com.apple.xbs/Sources/rsync/rsync/main.c(996) [sender=2.6.9]\n",
      "Input Notebook:  test.ipynb\n",
      "Output Notebook: output.ipynb\n",
      "Executing:   0%|          | 0/3 [00:00<?, ?cell/s]"
     ]
    },
    {
     "name": "stdout",
     "output_type": "stream",
     "text": [
      "building file list ... done\n",
      "\n",
      "sent 29 bytes  received 20 bytes  98.00 bytes/sec\n",
      "total size is 0  speedup is 0.00\n"
     ]
    },
    {
     "name": "stderr",
     "output_type": "stream",
     "text": [
      "Executing notebook with kernel: python3\n",
      "Executing:  33%|███▎      | 1/3 [00:00<00:01,  1.10cell/s]"
     ]
    },
    {
     "name": "stdout",
     "output_type": "stream",
     "text": [
      "Requirement already satisfied: requests in ./venv/lib/python3.8/site-packages (2.28.1)\n",
      "Requirement already satisfied: idna<4,>=2.5 in ./venv/lib/python3.8/site-packages (from requests) (3.3)\n",
      "Requirement already satisfied: certifi>=2017.4.17 in ./venv/lib/python3.8/site-packages (from requests) (2022.6.15.1)\n",
      "Requirement already satisfied: urllib3<1.27,>=1.21.1 in ./venv/lib/python3.8/site-packages (from requests) (1.26.12)\n",
      "Requirement already satisfied: charset-normalizer<3,>=2 in ./venv/lib/python3.8/site-packages (from requests) (2.1.1)\n",
      "Requirement already satisfied: pyArango in ./venv/lib/python3.8/site-packages (2.0.1)\n",
      "Requirement already satisfied: requests>=2.7.0 in ./venv/lib/python3.8/site-packages (from pyArango) (2.28.1)\n",
      "Requirement already satisfied: datetime in ./venv/lib/python3.8/site-packages (from pyArango) (4.6)\n",
      "Requirement already satisfied: future in ./venv/lib/python3.8/site-packages (from pyArango) (0.18.2)\n",
      "Requirement already satisfied: certifi>=2017.4.17 in ./venv/lib/python3.8/site-packages (from requests>=2.7.0->pyArango) (2022.6.15.1)\n",
      "Requirement already satisfied: idna<4,>=2.5 in ./venv/lib/python3.8/site-packages (from requests>=2.7.0->pyArango) (3.3)\n",
      "Requirement already satisfied: urllib3<1.27,>=1.21.1 in ./venv/lib/python3.8/site-packages (from requests>=2.7.0->pyArango) (1.26.12)\n",
      "Requirement already satisfied: charset-normalizer<3,>=2 in ./venv/lib/python3.8/site-packages (from requests>=2.7.0->pyArango) (2.1.1)\n",
      "Requirement already satisfied: pytz in ./venv/lib/python3.8/site-packages (from datetime->pyArango) (2022.2.1)\n",
      "Requirement already satisfied: zope.interface in ./venv/lib/python3.8/site-packages (from datetime->pyArango) (5.4.0)\n",
      "Requirement already satisfied: setuptools in ./venv/lib/python3.8/site-packages (from zope.interface->datetime->pyArango) (60.2.0)\n",
      "Looking in indexes: https://test.pypi.org/simple/\n",
      "Requirement already satisfied: arangomlFeatureStore==0.0.7.8 in ./venv/lib/python3.8/site-packages (0.0.7.8)\n",
      "Requirement already satisfied: pyArango in ./venv/lib/python3.8/site-packages (2.0.1)\n",
      "Requirement already satisfied: python-arango in ./venv/lib/python3.8/site-packages (7.4.1)\n",
      "Requirement already satisfied: PyYAML==5.2 in ./venv/lib/python3.8/site-packages (5.2)\n",
      "Requirement already satisfied: numpy in ./venv/lib/python3.8/site-packages (1.23.3)\n",
      "Requirement already satisfied: scikit-surprise in ./venv/lib/python3.8/site-packages (1.1.2)\n",
      "Requirement already satisfied: future in ./venv/lib/python3.8/site-packages (from pyArango) (0.18.2)\n",
      "Requirement already satisfied: requests>=2.7.0 in ./venv/lib/python3.8/site-packages (from pyArango) (2.28.1)\n",
      "Requirement already satisfied: datetime in ./venv/lib/python3.8/site-packages (from pyArango) (4.6)\n",
      "Requirement already satisfied: urllib3>=1.26.0 in ./venv/lib/python3.8/site-packages (from python-arango) (1.26.12)\n",
      "Requirement already satisfied: requests-toolbelt in ./venv/lib/python3.8/site-packages (from python-arango) (0.9.1)\n",
      "Requirement already satisfied: PyJWT in ./venv/lib/python3.8/site-packages (from python-arango) (2.4.0)\n",
      "Requirement already satisfied: setuptools>=42 in ./venv/lib/python3.8/site-packages (from python-arango) (60.2.0)\n",
      "Requirement already satisfied: joblib>=1.0.0 in ./venv/lib/python3.8/site-packages (from scikit-surprise) (1.1.0)\n",
      "Requirement already satisfied: scipy>=1.3.2 in ./venv/lib/python3.8/site-packages (from scikit-surprise) (1.9.1)\n",
      "Requirement already satisfied: certifi>=2017.4.17 in ./venv/lib/python3.8/site-packages (from requests>=2.7.0->pyArango) (2022.6.15.1)\n",
      "Requirement already satisfied: idna<4,>=2.5 in ./venv/lib/python3.8/site-packages (from requests>=2.7.0->pyArango) (3.3)\n",
      "Requirement already satisfied: charset-normalizer<3,>=2 in ./venv/lib/python3.8/site-packages (from requests>=2.7.0->pyArango) (2.1.1)\n",
      "Requirement already satisfied: zope.interface in ./venv/lib/python3.8/site-packages (from datetime->pyArango) (5.4.0)\n",
      "Requirement already satisfied: pytz in ./venv/lib/python3.8/site-packages (from datetime->pyArango) (2022.2.1)\n"
     ]
    },
    {
     "name": "stderr",
     "output_type": "stream",
     "text": [
      "fatal: destination path 'arangomlFeatureStore' already exists and is not an empty directory.\n",
      "rsync: link_stat \"/Users/felixriemen/PycharmProjects/Jupyternotebooktest/interactive_tutorials/notebooks/data\" failed: No such file or directory (2)\n",
      "rsync error: some files could not be transferred (code 23) at /AppleInternal/Library/BuildRoots/20d6c351-ee94-11ec-bcaf-7247572f23b4/Library/Caches/com.apple.xbs/Sources/rsync/rsync/main.c(996) [sender=2.6.9]\n",
      "Input Notebook:  test.ipynb\n",
      "Output Notebook: output.ipynb\n",
      "Executing:   0%|          | 0/3 [00:00<?, ?cell/s]"
     ]
    },
    {
     "name": "stdout",
     "output_type": "stream",
     "text": [
      "building file list ... done\n",
      "\n",
      "sent 29 bytes  received 20 bytes  98.00 bytes/sec\n",
      "total size is 0  speedup is 0.00\n"
     ]
    },
    {
     "name": "stderr",
     "output_type": "stream",
     "text": [
      "Executing notebook with kernel: python3\n",
      "Executing:  33%|███▎      | 1/3 [00:00<00:01,  1.10cell/s]"
     ]
    },
    {
     "name": "stdout",
     "output_type": "stream",
     "text": [
      "Requirement already satisfied: requests in ./venv/lib/python3.8/site-packages (2.28.1)\n",
      "Requirement already satisfied: idna<4,>=2.5 in ./venv/lib/python3.8/site-packages (from requests) (3.3)\n",
      "Requirement already satisfied: certifi>=2017.4.17 in ./venv/lib/python3.8/site-packages (from requests) (2022.6.15.1)\n",
      "Requirement already satisfied: urllib3<1.27,>=1.21.1 in ./venv/lib/python3.8/site-packages (from requests) (1.26.12)\n",
      "Requirement already satisfied: charset-normalizer<3,>=2 in ./venv/lib/python3.8/site-packages (from requests) (2.1.1)\n",
      "Requirement already satisfied: pyArango in ./venv/lib/python3.8/site-packages (2.0.1)\n",
      "Requirement already satisfied: future in ./venv/lib/python3.8/site-packages (from pyArango) (0.18.2)\n",
      "Requirement already satisfied: datetime in ./venv/lib/python3.8/site-packages (from pyArango) (4.6)\n",
      "Requirement already satisfied: requests>=2.7.0 in ./venv/lib/python3.8/site-packages (from pyArango) (2.28.1)\n",
      "Requirement already satisfied: urllib3<1.27,>=1.21.1 in ./venv/lib/python3.8/site-packages (from requests>=2.7.0->pyArango) (1.26.12)\n",
      "Requirement already satisfied: certifi>=2017.4.17 in ./venv/lib/python3.8/site-packages (from requests>=2.7.0->pyArango) (2022.6.15.1)\n",
      "Requirement already satisfied: idna<4,>=2.5 in ./venv/lib/python3.8/site-packages (from requests>=2.7.0->pyArango) (3.3)\n",
      "Requirement already satisfied: charset-normalizer<3,>=2 in ./venv/lib/python3.8/site-packages (from requests>=2.7.0->pyArango) (2.1.1)\n",
      "Requirement already satisfied: zope.interface in ./venv/lib/python3.8/site-packages (from datetime->pyArango) (5.4.0)\n",
      "Requirement already satisfied: pytz in ./venv/lib/python3.8/site-packages (from datetime->pyArango) (2022.2.1)\n",
      "Requirement already satisfied: setuptools in ./venv/lib/python3.8/site-packages (from zope.interface->datetime->pyArango) (60.2.0)\n",
      "Looking in indexes: https://test.pypi.org/simple/\n",
      "Requirement already satisfied: arangomlFeatureStore==0.0.7.8 in ./venv/lib/python3.8/site-packages (0.0.7.8)\n",
      "Requirement already satisfied: pyArango in ./venv/lib/python3.8/site-packages (2.0.1)\n",
      "Requirement already satisfied: python-arango in ./venv/lib/python3.8/site-packages (7.4.1)\n",
      "Requirement already satisfied: PyYAML==5.2 in ./venv/lib/python3.8/site-packages (5.2)\n",
      "Requirement already satisfied: numpy in ./venv/lib/python3.8/site-packages (1.23.3)\n",
      "Requirement already satisfied: scikit-surprise in ./venv/lib/python3.8/site-packages (1.1.2)\n",
      "Requirement already satisfied: datetime in ./venv/lib/python3.8/site-packages (from pyArango) (4.6)\n",
      "Requirement already satisfied: requests>=2.7.0 in ./venv/lib/python3.8/site-packages (from pyArango) (2.28.1)\n",
      "Requirement already satisfied: future in ./venv/lib/python3.8/site-packages (from pyArango) (0.18.2)\n",
      "Requirement already satisfied: PyJWT in ./venv/lib/python3.8/site-packages (from python-arango) (2.4.0)\n",
      "Requirement already satisfied: setuptools>=42 in ./venv/lib/python3.8/site-packages (from python-arango) (60.2.0)\n",
      "Requirement already satisfied: requests-toolbelt in ./venv/lib/python3.8/site-packages (from python-arango) (0.9.1)\n",
      "Requirement already satisfied: urllib3>=1.26.0 in ./venv/lib/python3.8/site-packages (from python-arango) (1.26.12)\n",
      "Requirement already satisfied: joblib>=1.0.0 in ./venv/lib/python3.8/site-packages (from scikit-surprise) (1.1.0)\n",
      "Requirement already satisfied: scipy>=1.3.2 in ./venv/lib/python3.8/site-packages (from scikit-surprise) (1.9.1)\n",
      "Requirement already satisfied: charset-normalizer<3,>=2 in ./venv/lib/python3.8/site-packages (from requests>=2.7.0->pyArango) (2.1.1)\n",
      "Requirement already satisfied: idna<4,>=2.5 in ./venv/lib/python3.8/site-packages (from requests>=2.7.0->pyArango) (3.3)\n",
      "Requirement already satisfied: certifi>=2017.4.17 in ./venv/lib/python3.8/site-packages (from requests>=2.7.0->pyArango) (2022.6.15.1)\n",
      "Requirement already satisfied: zope.interface in ./venv/lib/python3.8/site-packages (from datetime->pyArango) (5.4.0)\n",
      "Requirement already satisfied: pytz in ./venv/lib/python3.8/site-packages (from datetime->pyArango) (2022.2.1)\n"
     ]
    },
    {
     "name": "stderr",
     "output_type": "stream",
     "text": [
      "fatal: destination path 'arangomlFeatureStore' already exists and is not an empty directory.\n",
      "rsync: link_stat \"/Users/felixriemen/PycharmProjects/Jupyternotebooktest/interactive_tutorials/notebooks/data\" failed: No such file or directory (2)\n",
      "rsync error: some files could not be transferred (code 23) at /AppleInternal/Library/BuildRoots/20d6c351-ee94-11ec-bcaf-7247572f23b4/Library/Caches/com.apple.xbs/Sources/rsync/rsync/main.c(996) [sender=2.6.9]\n",
      "Input Notebook:  test.ipynb\n",
      "Output Notebook: output.ipynb\n",
      "Executing:   0%|          | 0/3 [00:00<?, ?cell/s]"
     ]
    },
    {
     "name": "stdout",
     "output_type": "stream",
     "text": [
      "building file list ... done\n",
      "\n",
      "sent 29 bytes  received 20 bytes  98.00 bytes/sec\n",
      "total size is 0  speedup is 0.00\n"
     ]
    },
    {
     "name": "stderr",
     "output_type": "stream",
     "text": [
      "Executing notebook with kernel: python3\n",
      "Executing:  33%|███▎      | 1/3 [00:00<00:01,  1.09cell/s]"
     ]
    },
    {
     "name": "stdout",
     "output_type": "stream",
     "text": [
      "Requirement already satisfied: requests in ./venv/lib/python3.8/site-packages (2.28.1)\n",
      "Requirement already satisfied: urllib3<1.27,>=1.21.1 in ./venv/lib/python3.8/site-packages (from requests) (1.26.12)\n",
      "Requirement already satisfied: certifi>=2017.4.17 in ./venv/lib/python3.8/site-packages (from requests) (2022.6.15.1)\n",
      "Requirement already satisfied: charset-normalizer<3,>=2 in ./venv/lib/python3.8/site-packages (from requests) (2.1.1)\n",
      "Requirement already satisfied: idna<4,>=2.5 in ./venv/lib/python3.8/site-packages (from requests) (3.3)\n",
      "Requirement already satisfied: pyArango in ./venv/lib/python3.8/site-packages (2.0.1)\n",
      "Requirement already satisfied: future in ./venv/lib/python3.8/site-packages (from pyArango) (0.18.2)\n",
      "Requirement already satisfied: datetime in ./venv/lib/python3.8/site-packages (from pyArango) (4.6)\n",
      "Requirement already satisfied: requests>=2.7.0 in ./venv/lib/python3.8/site-packages (from pyArango) (2.28.1)\n",
      "Requirement already satisfied: charset-normalizer<3,>=2 in ./venv/lib/python3.8/site-packages (from requests>=2.7.0->pyArango) (2.1.1)\n",
      "Requirement already satisfied: certifi>=2017.4.17 in ./venv/lib/python3.8/site-packages (from requests>=2.7.0->pyArango) (2022.6.15.1)\n",
      "Requirement already satisfied: urllib3<1.27,>=1.21.1 in ./venv/lib/python3.8/site-packages (from requests>=2.7.0->pyArango) (1.26.12)\n",
      "Requirement already satisfied: idna<4,>=2.5 in ./venv/lib/python3.8/site-packages (from requests>=2.7.0->pyArango) (3.3)\n",
      "Requirement already satisfied: zope.interface in ./venv/lib/python3.8/site-packages (from datetime->pyArango) (5.4.0)\n",
      "Requirement already satisfied: pytz in ./venv/lib/python3.8/site-packages (from datetime->pyArango) (2022.2.1)\n",
      "Requirement already satisfied: setuptools in ./venv/lib/python3.8/site-packages (from zope.interface->datetime->pyArango) (60.2.0)\n",
      "Looking in indexes: https://test.pypi.org/simple/\n",
      "Requirement already satisfied: arangomlFeatureStore==0.0.7.8 in ./venv/lib/python3.8/site-packages (0.0.7.8)\n",
      "Requirement already satisfied: pyArango in ./venv/lib/python3.8/site-packages (2.0.1)\n",
      "Requirement already satisfied: python-arango in ./venv/lib/python3.8/site-packages (7.4.1)\n",
      "Requirement already satisfied: PyYAML==5.2 in ./venv/lib/python3.8/site-packages (5.2)\n",
      "Requirement already satisfied: numpy in ./venv/lib/python3.8/site-packages (1.23.3)\n",
      "Requirement already satisfied: scikit-surprise in ./venv/lib/python3.8/site-packages (1.1.2)\n",
      "Requirement already satisfied: datetime in ./venv/lib/python3.8/site-packages (from pyArango) (4.6)\n",
      "Requirement already satisfied: future in ./venv/lib/python3.8/site-packages (from pyArango) (0.18.2)\n",
      "Requirement already satisfied: requests>=2.7.0 in ./venv/lib/python3.8/site-packages (from pyArango) (2.28.1)\n",
      "Requirement already satisfied: requests-toolbelt in ./venv/lib/python3.8/site-packages (from python-arango) (0.9.1)\n",
      "Requirement already satisfied: setuptools>=42 in ./venv/lib/python3.8/site-packages (from python-arango) (60.2.0)\n",
      "Requirement already satisfied: PyJWT in ./venv/lib/python3.8/site-packages (from python-arango) (2.4.0)\n",
      "Requirement already satisfied: urllib3>=1.26.0 in ./venv/lib/python3.8/site-packages (from python-arango) (1.26.12)\n",
      "Requirement already satisfied: joblib>=1.0.0 in ./venv/lib/python3.8/site-packages (from scikit-surprise) (1.1.0)\n",
      "Requirement already satisfied: scipy>=1.3.2 in ./venv/lib/python3.8/site-packages (from scikit-surprise) (1.9.1)\n",
      "Requirement already satisfied: charset-normalizer<3,>=2 in ./venv/lib/python3.8/site-packages (from requests>=2.7.0->pyArango) (2.1.1)\n",
      "Requirement already satisfied: certifi>=2017.4.17 in ./venv/lib/python3.8/site-packages (from requests>=2.7.0->pyArango) (2022.6.15.1)\n",
      "Requirement already satisfied: idna<4,>=2.5 in ./venv/lib/python3.8/site-packages (from requests>=2.7.0->pyArango) (3.3)\n",
      "Requirement already satisfied: pytz in ./venv/lib/python3.8/site-packages (from datetime->pyArango) (2022.2.1)\n",
      "Requirement already satisfied: zope.interface in ./venv/lib/python3.8/site-packages (from datetime->pyArango) (5.4.0)\n"
     ]
    },
    {
     "name": "stderr",
     "output_type": "stream",
     "text": [
      "fatal: destination path 'arangomlFeatureStore' already exists and is not an empty directory.\n",
      "rsync: link_stat \"/Users/felixriemen/PycharmProjects/Jupyternotebooktest/interactive_tutorials/notebooks/data\" failed: No such file or directory (2)\n",
      "rsync error: some files could not be transferred (code 23) at /AppleInternal/Library/BuildRoots/20d6c351-ee94-11ec-bcaf-7247572f23b4/Library/Caches/com.apple.xbs/Sources/rsync/rsync/main.c(996) [sender=2.6.9]\n",
      "Input Notebook:  test.ipynb\n",
      "Output Notebook: output.ipynb\n",
      "Executing:   0%|          | 0/3 [00:00<?, ?cell/s]"
     ]
    },
    {
     "name": "stdout",
     "output_type": "stream",
     "text": [
      "building file list ... done\n",
      "\n",
      "sent 29 bytes  received 20 bytes  98.00 bytes/sec\n",
      "total size is 0  speedup is 0.00\n"
     ]
    },
    {
     "name": "stderr",
     "output_type": "stream",
     "text": [
      "Executing notebook with kernel: python3\n",
      "Executing:  33%|███▎      | 1/3 [00:00<00:01,  1.10cell/s]"
     ]
    },
    {
     "name": "stdout",
     "output_type": "stream",
     "text": [
      "Requirement already satisfied: requests in ./venv/lib/python3.8/site-packages (2.28.1)\n",
      "Requirement already satisfied: idna<4,>=2.5 in ./venv/lib/python3.8/site-packages (from requests) (3.3)\n",
      "Requirement already satisfied: certifi>=2017.4.17 in ./venv/lib/python3.8/site-packages (from requests) (2022.6.15.1)\n",
      "Requirement already satisfied: charset-normalizer<3,>=2 in ./venv/lib/python3.8/site-packages (from requests) (2.1.1)\n",
      "Requirement already satisfied: urllib3<1.27,>=1.21.1 in ./venv/lib/python3.8/site-packages (from requests) (1.26.12)\n",
      "Requirement already satisfied: pyArango in ./venv/lib/python3.8/site-packages (2.0.1)\n",
      "Requirement already satisfied: datetime in ./venv/lib/python3.8/site-packages (from pyArango) (4.6)\n",
      "Requirement already satisfied: requests>=2.7.0 in ./venv/lib/python3.8/site-packages (from pyArango) (2.28.1)\n",
      "Requirement already satisfied: future in ./venv/lib/python3.8/site-packages (from pyArango) (0.18.2)\n",
      "Requirement already satisfied: charset-normalizer<3,>=2 in ./venv/lib/python3.8/site-packages (from requests>=2.7.0->pyArango) (2.1.1)\n",
      "Requirement already satisfied: idna<4,>=2.5 in ./venv/lib/python3.8/site-packages (from requests>=2.7.0->pyArango) (3.3)\n",
      "Requirement already satisfied: certifi>=2017.4.17 in ./venv/lib/python3.8/site-packages (from requests>=2.7.0->pyArango) (2022.6.15.1)\n",
      "Requirement already satisfied: urllib3<1.27,>=1.21.1 in ./venv/lib/python3.8/site-packages (from requests>=2.7.0->pyArango) (1.26.12)\n",
      "Requirement already satisfied: pytz in ./venv/lib/python3.8/site-packages (from datetime->pyArango) (2022.2.1)\n",
      "Requirement already satisfied: zope.interface in ./venv/lib/python3.8/site-packages (from datetime->pyArango) (5.4.0)\n",
      "Requirement already satisfied: setuptools in ./venv/lib/python3.8/site-packages (from zope.interface->datetime->pyArango) (60.2.0)\n",
      "Looking in indexes: https://test.pypi.org/simple/\n",
      "Requirement already satisfied: arangomlFeatureStore==0.0.7.8 in ./venv/lib/python3.8/site-packages (0.0.7.8)\n",
      "Requirement already satisfied: pyArango in ./venv/lib/python3.8/site-packages (2.0.1)\n",
      "Requirement already satisfied: python-arango in ./venv/lib/python3.8/site-packages (7.4.1)\n",
      "Requirement already satisfied: PyYAML==5.2 in ./venv/lib/python3.8/site-packages (5.2)\n",
      "Requirement already satisfied: numpy in ./venv/lib/python3.8/site-packages (1.23.3)\n",
      "Requirement already satisfied: scikit-surprise in ./venv/lib/python3.8/site-packages (1.1.2)\n",
      "Requirement already satisfied: datetime in ./venv/lib/python3.8/site-packages (from pyArango) (4.6)\n",
      "Requirement already satisfied: requests>=2.7.0 in ./venv/lib/python3.8/site-packages (from pyArango) (2.28.1)\n",
      "Requirement already satisfied: future in ./venv/lib/python3.8/site-packages (from pyArango) (0.18.2)\n",
      "Requirement already satisfied: setuptools>=42 in ./venv/lib/python3.8/site-packages (from python-arango) (60.2.0)\n",
      "Requirement already satisfied: PyJWT in ./venv/lib/python3.8/site-packages (from python-arango) (2.4.0)\n",
      "Requirement already satisfied: urllib3>=1.26.0 in ./venv/lib/python3.8/site-packages (from python-arango) (1.26.12)\n",
      "Requirement already satisfied: requests-toolbelt in ./venv/lib/python3.8/site-packages (from python-arango) (0.9.1)\n",
      "Requirement already satisfied: joblib>=1.0.0 in ./venv/lib/python3.8/site-packages (from scikit-surprise) (1.1.0)\n",
      "Requirement already satisfied: scipy>=1.3.2 in ./venv/lib/python3.8/site-packages (from scikit-surprise) (1.9.1)\n",
      "Requirement already satisfied: certifi>=2017.4.17 in ./venv/lib/python3.8/site-packages (from requests>=2.7.0->pyArango) (2022.6.15.1)\n",
      "Requirement already satisfied: charset-normalizer<3,>=2 in ./venv/lib/python3.8/site-packages (from requests>=2.7.0->pyArango) (2.1.1)\n",
      "Requirement already satisfied: idna<4,>=2.5 in ./venv/lib/python3.8/site-packages (from requests>=2.7.0->pyArango) (3.3)\n",
      "Requirement already satisfied: pytz in ./venv/lib/python3.8/site-packages (from datetime->pyArango) (2022.2.1)\n",
      "Requirement already satisfied: zope.interface in ./venv/lib/python3.8/site-packages (from datetime->pyArango) (5.4.0)\n"
     ]
    },
    {
     "name": "stderr",
     "output_type": "stream",
     "text": [
      "fatal: destination path 'arangomlFeatureStore' already exists and is not an empty directory.\n",
      "rsync: link_stat \"/Users/felixriemen/PycharmProjects/Jupyternotebooktest/interactive_tutorials/notebooks/data\" failed: No such file or directory (2)\n",
      "rsync error: some files could not be transferred (code 23) at /AppleInternal/Library/BuildRoots/20d6c351-ee94-11ec-bcaf-7247572f23b4/Library/Caches/com.apple.xbs/Sources/rsync/rsync/main.c(996) [sender=2.6.9]\n",
      "Input Notebook:  test.ipynb\n",
      "Output Notebook: output.ipynb\n",
      "Executing:   0%|          | 0/3 [00:00<?, ?cell/s]"
     ]
    },
    {
     "name": "stdout",
     "output_type": "stream",
     "text": [
      "building file list ... done\n",
      "\n",
      "sent 29 bytes  received 20 bytes  98.00 bytes/sec\n",
      "total size is 0  speedup is 0.00\n"
     ]
    },
    {
     "name": "stderr",
     "output_type": "stream",
     "text": [
      "Executing notebook with kernel: python3\n",
      "Executing:  33%|███▎      | 1/3 [00:00<00:01,  1.09cell/s]"
     ]
    },
    {
     "name": "stdout",
     "output_type": "stream",
     "text": [
      "Requirement already satisfied: requests in ./venv/lib/python3.8/site-packages (2.28.1)\n",
      "Requirement already satisfied: certifi>=2017.4.17 in ./venv/lib/python3.8/site-packages (from requests) (2022.6.15.1)\n",
      "Requirement already satisfied: charset-normalizer<3,>=2 in ./venv/lib/python3.8/site-packages (from requests) (2.1.1)\n",
      "Requirement already satisfied: urllib3<1.27,>=1.21.1 in ./venv/lib/python3.8/site-packages (from requests) (1.26.12)\n",
      "Requirement already satisfied: idna<4,>=2.5 in ./venv/lib/python3.8/site-packages (from requests) (3.3)\n",
      "Requirement already satisfied: pyArango in ./venv/lib/python3.8/site-packages (2.0.1)\n",
      "Requirement already satisfied: future in ./venv/lib/python3.8/site-packages (from pyArango) (0.18.2)\n",
      "Requirement already satisfied: datetime in ./venv/lib/python3.8/site-packages (from pyArango) (4.6)\n",
      "Requirement already satisfied: requests>=2.7.0 in ./venv/lib/python3.8/site-packages (from pyArango) (2.28.1)\n",
      "Requirement already satisfied: idna<4,>=2.5 in ./venv/lib/python3.8/site-packages (from requests>=2.7.0->pyArango) (3.3)\n",
      "Requirement already satisfied: urllib3<1.27,>=1.21.1 in ./venv/lib/python3.8/site-packages (from requests>=2.7.0->pyArango) (1.26.12)\n",
      "Requirement already satisfied: charset-normalizer<3,>=2 in ./venv/lib/python3.8/site-packages (from requests>=2.7.0->pyArango) (2.1.1)\n",
      "Requirement already satisfied: certifi>=2017.4.17 in ./venv/lib/python3.8/site-packages (from requests>=2.7.0->pyArango) (2022.6.15.1)\n",
      "Requirement already satisfied: pytz in ./venv/lib/python3.8/site-packages (from datetime->pyArango) (2022.2.1)\n",
      "Requirement already satisfied: zope.interface in ./venv/lib/python3.8/site-packages (from datetime->pyArango) (5.4.0)\n",
      "Requirement already satisfied: setuptools in ./venv/lib/python3.8/site-packages (from zope.interface->datetime->pyArango) (60.2.0)\n"
     ]
    },
    {
     "name": "stderr",
     "output_type": "stream",
     "text": [
      "Executing:  67%|██████▋   | 2/3 [00:01<00:00,  1.04cell/s]ERROR: Operation cancelled by user\n",
      "/Library/Developer/CommandLineTools/Library/Frameworks/Python3.framework/Versions/3.8/lib/python3.8/multiprocessing/resource_tracker.py:216: UserWarning: resource_tracker: There appear to be 1 leaked semaphore objects to clean up at shutdown\n",
      "  warnings.warn('resource_tracker: There appear to be %d '\n",
      "/Library/Developer/CommandLineTools/Library/Frameworks/Python3.framework/Versions/3.8/lib/python3.8/multiprocessing/resource_tracker.py:216: UserWarning: resource_tracker: There appear to be 1 leaked semaphore objects to clean up at shutdown\n",
      "  warnings.warn('resource_tracker: There appear to be %d '\n",
      "/Library/Developer/CommandLineTools/Library/Frameworks/Python3.framework/Versions/3.8/lib/python3.8/multiprocessing/resource_tracker.py:216: UserWarning: resource_tracker: There appear to be 1 leaked semaphore objects to clean up at shutdown\n",
      "  warnings.warn('resource_tracker: There appear to be %d '\n",
      "/Library/Developer/CommandLineTools/Library/Frameworks/Python3.framework/Versions/3.8/lib/python3.8/multiprocessing/resource_tracker.py:216: UserWarning: resource_tracker: There appear to be 1 leaked semaphore objects to clean up at shutdown\n",
      "  warnings.warn('resource_tracker: There appear to be %d '\n"
     ]
    },
    {
     "ename": "KeyboardInterrupt",
     "evalue": "",
     "output_type": "error",
     "traceback": [
      "\u001B[0;31m---------------------------------------------------------------------------\u001B[0m",
      "\u001B[0;31mKeyboardInterrupt\u001B[0m                         Traceback (most recent call last)",
      "Cell \u001B[0;32mIn [3], line 2\u001B[0m\n\u001B[1;32m      1\u001B[0m \u001B[38;5;28;01mimport\u001B[39;00m \u001B[38;5;21;01msubprocess\u001B[39;00m\n\u001B[0;32m----> 2\u001B[0m \u001B[43msubprocess\u001B[49m\u001B[38;5;241;43m.\u001B[39;49m\u001B[43mcall\u001B[49m\u001B[43m(\u001B[49m\u001B[38;5;124;43m\"\u001B[39;49m\u001B[38;5;124;43m/Users/felixriemen/PycharmProjects/Jupyternotebooktest/autostart.sh\u001B[39;49m\u001B[38;5;124;43m\"\u001B[39;49m\u001B[43m)\u001B[49m\n",
      "File \u001B[0;32m/Library/Developer/CommandLineTools/Library/Frameworks/Python3.framework/Versions/3.8/lib/python3.8/subprocess.py:342\u001B[0m, in \u001B[0;36mcall\u001B[0;34m(timeout, *popenargs, **kwargs)\u001B[0m\n\u001B[1;32m    340\u001B[0m \u001B[38;5;28;01mwith\u001B[39;00m Popen(\u001B[38;5;241m*\u001B[39mpopenargs, \u001B[38;5;241m*\u001B[39m\u001B[38;5;241m*\u001B[39mkwargs) \u001B[38;5;28;01mas\u001B[39;00m p:\n\u001B[1;32m    341\u001B[0m     \u001B[38;5;28;01mtry\u001B[39;00m:\n\u001B[0;32m--> 342\u001B[0m         \u001B[38;5;28;01mreturn\u001B[39;00m \u001B[43mp\u001B[49m\u001B[38;5;241;43m.\u001B[39;49m\u001B[43mwait\u001B[49m\u001B[43m(\u001B[49m\u001B[43mtimeout\u001B[49m\u001B[38;5;241;43m=\u001B[39;49m\u001B[43mtimeout\u001B[49m\u001B[43m)\u001B[49m\n\u001B[1;32m    343\u001B[0m     \u001B[38;5;28;01mexcept\u001B[39;00m:  \u001B[38;5;66;03m# Including KeyboardInterrupt, wait handled that.\u001B[39;00m\n\u001B[1;32m    344\u001B[0m         p\u001B[38;5;241m.\u001B[39mkill()\n",
      "File \u001B[0;32m/Library/Developer/CommandLineTools/Library/Frameworks/Python3.framework/Versions/3.8/lib/python3.8/subprocess.py:1083\u001B[0m, in \u001B[0;36mPopen.wait\u001B[0;34m(self, timeout)\u001B[0m\n\u001B[1;32m   1081\u001B[0m     endtime \u001B[38;5;241m=\u001B[39m _time() \u001B[38;5;241m+\u001B[39m timeout\n\u001B[1;32m   1082\u001B[0m \u001B[38;5;28;01mtry\u001B[39;00m:\n\u001B[0;32m-> 1083\u001B[0m     \u001B[38;5;28;01mreturn\u001B[39;00m \u001B[38;5;28;43mself\u001B[39;49m\u001B[38;5;241;43m.\u001B[39;49m\u001B[43m_wait\u001B[49m\u001B[43m(\u001B[49m\u001B[43mtimeout\u001B[49m\u001B[38;5;241;43m=\u001B[39;49m\u001B[43mtimeout\u001B[49m\u001B[43m)\u001B[49m\n\u001B[1;32m   1084\u001B[0m \u001B[38;5;28;01mexcept\u001B[39;00m \u001B[38;5;167;01mKeyboardInterrupt\u001B[39;00m:\n\u001B[1;32m   1085\u001B[0m     \u001B[38;5;66;03m# https://bugs.python.org/issue25942\u001B[39;00m\n\u001B[1;32m   1086\u001B[0m     \u001B[38;5;66;03m# The first keyboard interrupt waits briefly for the child to\u001B[39;00m\n\u001B[1;32m   1087\u001B[0m     \u001B[38;5;66;03m# exit under the common assumption that it also received the ^C\u001B[39;00m\n\u001B[1;32m   1088\u001B[0m     \u001B[38;5;66;03m# generated SIGINT and will exit rapidly.\u001B[39;00m\n\u001B[1;32m   1089\u001B[0m     \u001B[38;5;28;01mif\u001B[39;00m timeout \u001B[38;5;129;01mis\u001B[39;00m \u001B[38;5;129;01mnot\u001B[39;00m \u001B[38;5;28;01mNone\u001B[39;00m:\n",
      "File \u001B[0;32m/Library/Developer/CommandLineTools/Library/Frameworks/Python3.framework/Versions/3.8/lib/python3.8/subprocess.py:1806\u001B[0m, in \u001B[0;36mPopen._wait\u001B[0;34m(self, timeout)\u001B[0m\n\u001B[1;32m   1804\u001B[0m \u001B[38;5;28;01mif\u001B[39;00m \u001B[38;5;28mself\u001B[39m\u001B[38;5;241m.\u001B[39mreturncode \u001B[38;5;129;01mis\u001B[39;00m \u001B[38;5;129;01mnot\u001B[39;00m \u001B[38;5;28;01mNone\u001B[39;00m:\n\u001B[1;32m   1805\u001B[0m     \u001B[38;5;28;01mbreak\u001B[39;00m  \u001B[38;5;66;03m# Another thread waited.\u001B[39;00m\n\u001B[0;32m-> 1806\u001B[0m (pid, sts) \u001B[38;5;241m=\u001B[39m \u001B[38;5;28;43mself\u001B[39;49m\u001B[38;5;241;43m.\u001B[39;49m\u001B[43m_try_wait\u001B[49m\u001B[43m(\u001B[49m\u001B[38;5;241;43m0\u001B[39;49m\u001B[43m)\u001B[49m\n\u001B[1;32m   1807\u001B[0m \u001B[38;5;66;03m# Check the pid and loop as waitpid has been known to\u001B[39;00m\n\u001B[1;32m   1808\u001B[0m \u001B[38;5;66;03m# return 0 even without WNOHANG in odd situations.\u001B[39;00m\n\u001B[1;32m   1809\u001B[0m \u001B[38;5;66;03m# http://bugs.python.org/issue14396.\u001B[39;00m\n\u001B[1;32m   1810\u001B[0m \u001B[38;5;28;01mif\u001B[39;00m pid \u001B[38;5;241m==\u001B[39m \u001B[38;5;28mself\u001B[39m\u001B[38;5;241m.\u001B[39mpid:\n",
      "File \u001B[0;32m/Library/Developer/CommandLineTools/Library/Frameworks/Python3.framework/Versions/3.8/lib/python3.8/subprocess.py:1764\u001B[0m, in \u001B[0;36mPopen._try_wait\u001B[0;34m(self, wait_flags)\u001B[0m\n\u001B[1;32m   1762\u001B[0m \u001B[38;5;124;03m\"\"\"All callers to this function MUST hold self._waitpid_lock.\"\"\"\u001B[39;00m\n\u001B[1;32m   1763\u001B[0m \u001B[38;5;28;01mtry\u001B[39;00m:\n\u001B[0;32m-> 1764\u001B[0m     (pid, sts) \u001B[38;5;241m=\u001B[39m \u001B[43mos\u001B[49m\u001B[38;5;241;43m.\u001B[39;49m\u001B[43mwaitpid\u001B[49m\u001B[43m(\u001B[49m\u001B[38;5;28;43mself\u001B[39;49m\u001B[38;5;241;43m.\u001B[39;49m\u001B[43mpid\u001B[49m\u001B[43m,\u001B[49m\u001B[43m \u001B[49m\u001B[43mwait_flags\u001B[49m\u001B[43m)\u001B[49m\n\u001B[1;32m   1765\u001B[0m \u001B[38;5;28;01mexcept\u001B[39;00m \u001B[38;5;167;01mChildProcessError\u001B[39;00m:\n\u001B[1;32m   1766\u001B[0m     \u001B[38;5;66;03m# This happens if SIGCLD is set to be ignored or waiting\u001B[39;00m\n\u001B[1;32m   1767\u001B[0m     \u001B[38;5;66;03m# for child processes has otherwise been disabled for our\u001B[39;00m\n\u001B[1;32m   1768\u001B[0m     \u001B[38;5;66;03m# process.  This child is dead, we can't get the status.\u001B[39;00m\n\u001B[1;32m   1769\u001B[0m     pid \u001B[38;5;241m=\u001B[39m \u001B[38;5;28mself\u001B[39m\u001B[38;5;241m.\u001B[39mpid\n",
      "\u001B[0;31mKeyboardInterrupt\u001B[0m: "
     ]
    },
    {
     "name": "stderr",
     "output_type": "stream",
     "text": [
      "/Library/Developer/CommandLineTools/Library/Frameworks/Python3.framework/Versions/3.8/lib/python3.8/multiprocessing/resource_tracker.py:216: UserWarning: resource_tracker: There appear to be 1 leaked semaphore objects to clean up at shutdown\n",
      "  warnings.warn('resource_tracker: There appear to be %d '\n"
     ]
    }
   ],
   "source": [
    "print(\"Helloworld\")"
   ],
   "metadata": {
    "collapsed": false,
    "pycharm": {
     "name": "#%%\n"
    }
   }
  },
  {
   "cell_type": "code",
   "execution_count": null,
   "outputs": [],
   "source": [],
   "metadata": {
    "collapsed": false,
    "pycharm": {
     "name": "#%%\n",
     "is_executing": true
    }
   }
  }
 ],
 "metadata": {
  "kernelspec": {
   "display_name": "Python 3",
   "language": "python",
   "name": "python3"
  },
  "language_info": {
   "codemirror_mode": {
    "name": "ipython",
    "version": 2
   },
   "file_extension": ".py",
   "mimetype": "text/x-python",
   "name": "python",
   "nbconvert_exporter": "python",
   "pygments_lexer": "ipython2",
   "version": "2.7.6"
  }
 },
 "nbformat": 4,
 "nbformat_minor": 0
}